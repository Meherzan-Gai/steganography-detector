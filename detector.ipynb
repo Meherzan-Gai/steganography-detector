{
 "cells": [
  {
   "cell_type": "code",
   "execution_count": 29,
   "id": "1d9c8be4-46d5-4c34-82f1-119f7ac93ffb",
   "metadata": {},
   "outputs": [],
   "source": [
    "# RUN ONCE\n",
    "# import kagglehub\n",
    "\n",
    "# # Download latest version\n",
    "# path = kagglehub.dataset_download(\"marcozuppelli/stegoimagesdataset\")\n",
    "# print(\"Path to dataset files:\", path)"
   ]
  },
  {
   "cell_type": "code",
   "execution_count": 1,
   "id": "7e48dba5-3bd4-405b-b1b2-35aa59054514",
   "metadata": {},
   "outputs": [],
   "source": [
    "from PIL import Image\n",
    "import numpy as np\n",
    "import pandas as pd\n",
    "import glob\n",
    "import random\n",
    "from sklearn.utils import shuffle\n",
    "from sklearn.model_selection import train_test_split\n",
    "from sklearn.metrics import accuracy_score\n",
    "from tensorflow.keras.models import Sequential\n",
    "from tensorflow.keras.layers import Dense, Dropout\n",
    "from tensorflow.keras.optimizers import Adam\n",
    "from tensorflow.keras.preprocessing.sequence import pad_sequences\n"
   ]
  },
  {
   "cell_type": "code",
   "execution_count": 2,
   "id": "e3861f63-4bf1-4e1b-b8c1-a8170e4ccdea",
   "metadata": {},
   "outputs": [],
   "source": [
    "def getLSBFloatBytes(filePath):\n",
    "    img = Image.open(filePath).convert(\"RGB\")\n",
    "    pixels = np.array(img).flatten()\n",
    "    lsb_array = pixels & 1\n",
    "\n",
    "    usable_length = (len(lsb_array) // 8) * 8\n",
    "    lsb_array = lsb_array[:usable_length]\n",
    "\n",
    "    lsb_reshaped = lsb_array.reshape((-1, 8))\n",
    "    powers = 2**np.arange(7, -1, -1)\n",
    "    byte_values = np.dot(lsb_reshaped, powers).astype(np.float32)\n",
    "\n",
    "    float_bytes = byte_values / 255.0\n",
    "    return float_bytes.tolist()\n"
   ]
  },
  {
   "cell_type": "code",
   "execution_count": 3,
   "id": "db0b51a1-43ba-435b-86ea-8e4e24c38ac3",
   "metadata": {},
   "outputs": [],
   "source": [
    "### GETTING THE PATHS OF ALL THE IMAGES IN THE KAGGLE DATASET\n",
    "basePath = '/Users/gaim/.cache/kagglehub/datasets/marcozuppelli/stegoimagesdataset/versions/2'\n",
    "\n",
    "trainStegImgs = glob.glob(basePath + '/train/train/stego/*.png') #get all the steg image paths\n",
    "trainCleanImgs = glob.glob(basePath + '/train/train/clean/*.png') #get all the clean image paths\n",
    "testStegImgs = glob.glob(basePath + '/test/test/stego/*.png')\n",
    "testCleanImgs = glob.glob(basePath + '/test/test/clean/*.png')"
   ]
  },
  {
   "cell_type": "code",
   "execution_count": 6,
   "id": "b6521f1e-8472-476d-85bd-bc3d7e358c04",
   "metadata": {},
   "outputs": [
    {
     "data": {
      "text/html": [
       "<div>\n",
       "<style scoped>\n",
       "    .dataframe tbody tr th:only-of-type {\n",
       "        vertical-align: middle;\n",
       "    }\n",
       "\n",
       "    .dataframe tbody tr th {\n",
       "        vertical-align: top;\n",
       "    }\n",
       "\n",
       "    .dataframe thead th {\n",
       "        text-align: right;\n",
       "    }\n",
       "</style>\n",
       "<table border=\"1\" class=\"dataframe\">\n",
       "  <thead>\n",
       "    <tr style=\"text-align: right;\">\n",
       "      <th></th>\n",
       "      <th>imagePath</th>\n",
       "      <th>rawBytes</th>\n",
       "      <th>hasSteg</th>\n",
       "    </tr>\n",
       "  </thead>\n",
       "  <tbody>\n",
       "    <tr>\n",
       "      <th>1859</th>\n",
       "      <td>/Users/gaim/.cache/kagglehub/datasets/marcozup...</td>\n",
       "      <td>[0.0, 0.0, 0.0, 0.0, 0.0, 0.0, 0.0, 0.0, 0.0, ...</td>\n",
       "      <td>0</td>\n",
       "    </tr>\n",
       "    <tr>\n",
       "      <th>1059</th>\n",
       "      <td>/Users/gaim/.cache/kagglehub/datasets/marcozup...</td>\n",
       "      <td>[0.0, 0.0, 0.0, 0.0, 0.0, 0.0, 0.0, 0.0, 0.0, ...</td>\n",
       "      <td>0</td>\n",
       "    </tr>\n",
       "    <tr>\n",
       "      <th>114</th>\n",
       "      <td>/Users/gaim/.cache/kagglehub/datasets/marcozup...</td>\n",
       "      <td>[0.0, 0.0, 0.0, 0.0, 0.0, 0.0, 0.8352941274642...</td>\n",
       "      <td>1</td>\n",
       "    </tr>\n",
       "    <tr>\n",
       "      <th>791</th>\n",
       "      <td>/Users/gaim/.cache/kagglehub/datasets/marcozup...</td>\n",
       "      <td>[0.0, 0.0, 0.0, 0.0, 0.0, 0.0, 0.8627451062202...</td>\n",
       "      <td>1</td>\n",
       "    </tr>\n",
       "    <tr>\n",
       "      <th>1813</th>\n",
       "      <td>/Users/gaim/.cache/kagglehub/datasets/marcozup...</td>\n",
       "      <td>[0.0, 0.0, 0.0, 0.0, 0.0, 0.0, 0.0, 0.0, 0.0, ...</td>\n",
       "      <td>0</td>\n",
       "    </tr>\n",
       "    <tr>\n",
       "      <th>...</th>\n",
       "      <td>...</td>\n",
       "      <td>...</td>\n",
       "      <td>...</td>\n",
       "    </tr>\n",
       "    <tr>\n",
       "      <th>986</th>\n",
       "      <td>/Users/gaim/.cache/kagglehub/datasets/marcozup...</td>\n",
       "      <td>[0.0, 0.0, 0.0, 0.0, 0.0, 0.0, 0.2941176593303...</td>\n",
       "      <td>1</td>\n",
       "    </tr>\n",
       "    <tr>\n",
       "      <th>133</th>\n",
       "      <td>/Users/gaim/.cache/kagglehub/datasets/marcozup...</td>\n",
       "      <td>[0.0, 0.1764705926179886, 0.1568627506494522, ...</td>\n",
       "      <td>1</td>\n",
       "    </tr>\n",
       "    <tr>\n",
       "      <th>361</th>\n",
       "      <td>/Users/gaim/.cache/kagglehub/datasets/marcozup...</td>\n",
       "      <td>[0.0, 0.0, 0.0, 0.0, 0.0, 0.0, 0.8313725590705...</td>\n",
       "      <td>1</td>\n",
       "    </tr>\n",
       "    <tr>\n",
       "      <th>1364</th>\n",
       "      <td>/Users/gaim/.cache/kagglehub/datasets/marcozup...</td>\n",
       "      <td>[0.0, 0.0, 0.0, 0.0, 0.0, 0.0, 0.0, 0.0, 0.0, ...</td>\n",
       "      <td>0</td>\n",
       "    </tr>\n",
       "    <tr>\n",
       "      <th>451</th>\n",
       "      <td>/Users/gaim/.cache/kagglehub/datasets/marcozup...</td>\n",
       "      <td>[0.0, 0.0, 0.0, 0.0, 0.0, 0.01568627543747425,...</td>\n",
       "      <td>1</td>\n",
       "    </tr>\n",
       "  </tbody>\n",
       "</table>\n",
       "<p>2000 rows × 3 columns</p>\n",
       "</div>"
      ],
      "text/plain": [
       "                                              imagePath  \\\n",
       "1859  /Users/gaim/.cache/kagglehub/datasets/marcozup...   \n",
       "1059  /Users/gaim/.cache/kagglehub/datasets/marcozup...   \n",
       "114   /Users/gaim/.cache/kagglehub/datasets/marcozup...   \n",
       "791   /Users/gaim/.cache/kagglehub/datasets/marcozup...   \n",
       "1813  /Users/gaim/.cache/kagglehub/datasets/marcozup...   \n",
       "...                                                 ...   \n",
       "986   /Users/gaim/.cache/kagglehub/datasets/marcozup...   \n",
       "133   /Users/gaim/.cache/kagglehub/datasets/marcozup...   \n",
       "361   /Users/gaim/.cache/kagglehub/datasets/marcozup...   \n",
       "1364  /Users/gaim/.cache/kagglehub/datasets/marcozup...   \n",
       "451   /Users/gaim/.cache/kagglehub/datasets/marcozup...   \n",
       "\n",
       "                                               rawBytes  hasSteg  \n",
       "1859  [0.0, 0.0, 0.0, 0.0, 0.0, 0.0, 0.0, 0.0, 0.0, ...        0  \n",
       "1059  [0.0, 0.0, 0.0, 0.0, 0.0, 0.0, 0.0, 0.0, 0.0, ...        0  \n",
       "114   [0.0, 0.0, 0.0, 0.0, 0.0, 0.0, 0.8352941274642...        1  \n",
       "791   [0.0, 0.0, 0.0, 0.0, 0.0, 0.0, 0.8627451062202...        1  \n",
       "1813  [0.0, 0.0, 0.0, 0.0, 0.0, 0.0, 0.0, 0.0, 0.0, ...        0  \n",
       "...                                                 ...      ...  \n",
       "986   [0.0, 0.0, 0.0, 0.0, 0.0, 0.0, 0.2941176593303...        1  \n",
       "133   [0.0, 0.1764705926179886, 0.1568627506494522, ...        1  \n",
       "361   [0.0, 0.0, 0.0, 0.0, 0.0, 0.0, 0.8313725590705...        1  \n",
       "1364  [0.0, 0.0, 0.0, 0.0, 0.0, 0.0, 0.0, 0.0, 0.0, ...        0  \n",
       "451   [0.0, 0.0, 0.0, 0.0, 0.0, 0.01568627543747425,...        1  \n",
       "\n",
       "[2000 rows x 3 columns]"
      ]
     },
     "metadata": {},
     "output_type": "display_data"
    }
   ],
   "source": [
    "### GET THE RAW BYTES FOR EACH IMAGE AND THEN ADD THEM TO A PANDAS DATAFRAME\n",
    "\n",
    "trainRows = []\n",
    "for img in trainStegImgs[:1000]:\n",
    "    rowInfo = {\n",
    "        'imagePath' : img,\n",
    "        'rawBytes' : getLSBFloatBytes(img),\n",
    "        'hasSteg' : 1\n",
    "    }\n",
    "    trainRows.append(rowInfo)\n",
    "    #print(img, \"COMPLETED\")\n",
    "\n",
    "\n",
    "for img in trainCleanImgs[:1000]:\n",
    "    rowInfo = {\n",
    "        'imagePath' : img,\n",
    "        'rawBytes' : getLSBFloatBytes(img),\n",
    "        'hasSteg' : 0\n",
    "    }\n",
    "    trainRows.append(rowInfo)\n",
    "    \n",
    "\n",
    "\n",
    "trainDf = pd.DataFrame(trainRows)\n",
    "trainDf = shuffle(trainDf, random_state=8)\n",
    "display(trainDf)"
   ]
  },
  {
   "cell_type": "code",
   "execution_count": 9,
   "id": "24174242-8d0f-457b-a4f7-ef3aa086734a",
   "metadata": {},
   "outputs": [
    {
     "data": {
      "text/html": [
       "<div>\n",
       "<style scoped>\n",
       "    .dataframe tbody tr th:only-of-type {\n",
       "        vertical-align: middle;\n",
       "    }\n",
       "\n",
       "    .dataframe tbody tr th {\n",
       "        vertical-align: top;\n",
       "    }\n",
       "\n",
       "    .dataframe thead th {\n",
       "        text-align: right;\n",
       "    }\n",
       "</style>\n",
       "<table border=\"1\" class=\"dataframe\">\n",
       "  <thead>\n",
       "    <tr style=\"text-align: right;\">\n",
       "      <th></th>\n",
       "      <th>imagePath</th>\n",
       "      <th>rawBytes</th>\n",
       "      <th>hasSteg</th>\n",
       "    </tr>\n",
       "  </thead>\n",
       "  <tbody>\n",
       "    <tr>\n",
       "      <th>1859</th>\n",
       "      <td>/Users/gaim/.cache/kagglehub/datasets/marcozup...</td>\n",
       "      <td>[0.0, 0.0, 0.0, 0.0, 0.0, 0.0, 0.0, 0.0, 0.0, ...</td>\n",
       "      <td>0</td>\n",
       "    </tr>\n",
       "    <tr>\n",
       "      <th>1059</th>\n",
       "      <td>/Users/gaim/.cache/kagglehub/datasets/marcozup...</td>\n",
       "      <td>[0.0, 0.0, 0.0, 0.0, 0.0, 0.0, 0.0, 0.0, 0.0, ...</td>\n",
       "      <td>0</td>\n",
       "    </tr>\n",
       "    <tr>\n",
       "      <th>114</th>\n",
       "      <td>/Users/gaim/.cache/kagglehub/datasets/marcozup...</td>\n",
       "      <td>[0.0, 0.0, 0.0, 0.0, 0.0, 0.0, 0.8117647171020...</td>\n",
       "      <td>1</td>\n",
       "    </tr>\n",
       "    <tr>\n",
       "      <th>791</th>\n",
       "      <td>/Users/gaim/.cache/kagglehub/datasets/marcozup...</td>\n",
       "      <td>[0.0, 0.0, 0.0, 0.0, 0.0, 0.0, 0.0, 0.38039216...</td>\n",
       "      <td>1</td>\n",
       "    </tr>\n",
       "    <tr>\n",
       "      <th>1813</th>\n",
       "      <td>/Users/gaim/.cache/kagglehub/datasets/marcozup...</td>\n",
       "      <td>[0.0, 0.0, 0.0, 0.0, 0.0, 0.0, 0.0, 0.0, 0.0, ...</td>\n",
       "      <td>0</td>\n",
       "    </tr>\n",
       "    <tr>\n",
       "      <th>...</th>\n",
       "      <td>...</td>\n",
       "      <td>...</td>\n",
       "      <td>...</td>\n",
       "    </tr>\n",
       "    <tr>\n",
       "      <th>986</th>\n",
       "      <td>/Users/gaim/.cache/kagglehub/datasets/marcozup...</td>\n",
       "      <td>[0.0, 0.0, 0.0, 0.0, 0.0, 0.0, 0.7725490331649...</td>\n",
       "      <td>1</td>\n",
       "    </tr>\n",
       "    <tr>\n",
       "      <th>133</th>\n",
       "      <td>/Users/gaim/.cache/kagglehub/datasets/marcozup...</td>\n",
       "      <td>[0.0, 0.0, 0.0, 0.0, 0.0, 0.0, 0.0, 0.18431372...</td>\n",
       "      <td>1</td>\n",
       "    </tr>\n",
       "    <tr>\n",
       "      <th>361</th>\n",
       "      <td>/Users/gaim/.cache/kagglehub/datasets/marcozup...</td>\n",
       "      <td>[0.0, 0.0, 0.0, 0.0, 0.0, 0.0, 0.0392156876623...</td>\n",
       "      <td>1</td>\n",
       "    </tr>\n",
       "    <tr>\n",
       "      <th>1364</th>\n",
       "      <td>/Users/gaim/.cache/kagglehub/datasets/marcozup...</td>\n",
       "      <td>[0.0, 0.0, 0.0, 0.0, 0.0, 0.0, 0.0, 0.0, 0.0, ...</td>\n",
       "      <td>0</td>\n",
       "    </tr>\n",
       "    <tr>\n",
       "      <th>451</th>\n",
       "      <td>/Users/gaim/.cache/kagglehub/datasets/marcozup...</td>\n",
       "      <td>[0.0, 0.0, 0.0, 0.0, 0.0, 0.0, 0.0156862754374...</td>\n",
       "      <td>1</td>\n",
       "    </tr>\n",
       "  </tbody>\n",
       "</table>\n",
       "<p>2000 rows × 3 columns</p>\n",
       "</div>"
      ],
      "text/plain": [
       "                                              imagePath  \\\n",
       "1859  /Users/gaim/.cache/kagglehub/datasets/marcozup...   \n",
       "1059  /Users/gaim/.cache/kagglehub/datasets/marcozup...   \n",
       "114   /Users/gaim/.cache/kagglehub/datasets/marcozup...   \n",
       "791   /Users/gaim/.cache/kagglehub/datasets/marcozup...   \n",
       "1813  /Users/gaim/.cache/kagglehub/datasets/marcozup...   \n",
       "...                                                 ...   \n",
       "986   /Users/gaim/.cache/kagglehub/datasets/marcozup...   \n",
       "133   /Users/gaim/.cache/kagglehub/datasets/marcozup...   \n",
       "361   /Users/gaim/.cache/kagglehub/datasets/marcozup...   \n",
       "1364  /Users/gaim/.cache/kagglehub/datasets/marcozup...   \n",
       "451   /Users/gaim/.cache/kagglehub/datasets/marcozup...   \n",
       "\n",
       "                                               rawBytes  hasSteg  \n",
       "1859  [0.0, 0.0, 0.0, 0.0, 0.0, 0.0, 0.0, 0.0, 0.0, ...        0  \n",
       "1059  [0.0, 0.0, 0.0, 0.0, 0.0, 0.0, 0.0, 0.0, 0.0, ...        0  \n",
       "114   [0.0, 0.0, 0.0, 0.0, 0.0, 0.0, 0.8117647171020...        1  \n",
       "791   [0.0, 0.0, 0.0, 0.0, 0.0, 0.0, 0.0, 0.38039216...        1  \n",
       "1813  [0.0, 0.0, 0.0, 0.0, 0.0, 0.0, 0.0, 0.0, 0.0, ...        0  \n",
       "...                                                 ...      ...  \n",
       "986   [0.0, 0.0, 0.0, 0.0, 0.0, 0.0, 0.7725490331649...        1  \n",
       "133   [0.0, 0.0, 0.0, 0.0, 0.0, 0.0, 0.0, 0.18431372...        1  \n",
       "361   [0.0, 0.0, 0.0, 0.0, 0.0, 0.0, 0.0392156876623...        1  \n",
       "1364  [0.0, 0.0, 0.0, 0.0, 0.0, 0.0, 0.0, 0.0, 0.0, ...        0  \n",
       "451   [0.0, 0.0, 0.0, 0.0, 0.0, 0.0, 0.0156862754374...        1  \n",
       "\n",
       "[2000 rows x 3 columns]"
      ]
     },
     "metadata": {},
     "output_type": "display_data"
    }
   ],
   "source": [
    "### GET THE RAW BYTES FOR EACH IMAGE AND THEN ADD THEM TO A PANDAS DATAFRAME\n",
    "\n",
    "testRows = []\n",
    "for img in testStegImgs[:1000]:\n",
    "    rowInfo = {\n",
    "        'imagePath' : img,\n",
    "        'rawBytes' : getLSBFloatBytes(img),\n",
    "        'hasSteg' : 1\n",
    "    }\n",
    "    testRows.append(rowInfo)\n",
    "    #print(img, \"COMPLETED\")\n",
    "\n",
    "\n",
    "for img in testCleanImgs[:1000]:\n",
    "    rowInfo = {\n",
    "        'imagePath' : img,\n",
    "        'rawBytes' : getLSBFloatBytes(img),\n",
    "        'hasSteg' : 0\n",
    "    }\n",
    "    testRows.append(rowInfo)\n",
    "    \n",
    "\n",
    "\n",
    "testDf = pd.DataFrame(testRows)\n",
    "testDf = shuffle(testDf, random_state=8)\n",
    "display(testDf)"
   ]
  },
  {
   "cell_type": "code",
   "execution_count": 12,
   "id": "8d8d79f2-ebb0-46fb-98f5-40085fbae0c7",
   "metadata": {},
   "outputs": [],
   "source": [
    "# trainDf.to_csv('trainDf.csv')"
   ]
  },
  {
   "cell_type": "code",
   "execution_count": 13,
   "id": "f6a66156-b6d8-4897-9239-fc159d15239e",
   "metadata": {},
   "outputs": [],
   "source": [
    "# testDf.to_csv('testDf.csv')"
   ]
  },
  {
   "cell_type": "code",
   "execution_count": 14,
   "id": "bd2dd898-226f-4220-916a-22354ea03d22",
   "metadata": {},
   "outputs": [],
   "source": [
    "# trainDf = pd.read_csv('trainDf.csv')"
   ]
  },
  {
   "cell_type": "code",
   "execution_count": 15,
   "id": "9213d8a7-29ce-4bcc-a2eb-a59364fb9332",
   "metadata": {},
   "outputs": [],
   "source": [
    "# testDf = pd.read_csv('testDf.csv')"
   ]
  },
  {
   "cell_type": "code",
   "execution_count": 18,
   "id": "2ac38f13-1a32-41d6-8eda-001363a835d7",
   "metadata": {
    "scrolled": true
   },
   "outputs": [],
   "source": [
    "rawBytes = trainDf['rawBytes'].iloc[1]\n",
    "hasSteg = trainDf['hasSteg'].iloc[1]"
   ]
  },
  {
   "cell_type": "code",
   "execution_count": 26,
   "id": "c137a632-66de-4a3d-87f0-1bed64c934af",
   "metadata": {},
   "outputs": [],
   "source": [
    "def prepareData(df):\n",
    "    X = np.stack(df['rawBytes'].values)  # each list becomes a row\n",
    "    y = np.array(df['hasSteg'], dtype=np.uint8)  # Binary labels\n",
    "    return X, y\n",
    "\n",
    "xTrain, yTrain = prepareData(trainDf)\n",
    "xTest, yTest = prepareData(testDf)"
   ]
  },
  {
   "cell_type": "code",
   "execution_count": 27,
   "id": "31106e89-d5f5-4b95-a457-5ac19ee4f2e5",
   "metadata": {},
   "outputs": [
    {
     "data": {
      "text/plain": [
       "(2000, 98304)"
      ]
     },
     "metadata": {},
     "output_type": "display_data"
    }
   ],
   "source": [
    "display(xTrain.shape)"
   ]
  },
  {
   "cell_type": "code",
   "execution_count": 28,
   "id": "a8d00856-ccbd-4656-8731-f6429e7d2f07",
   "metadata": {},
   "outputs": [
    {
     "name": "stderr",
     "output_type": "stream",
     "text": [
      "/Users/gaim/Documents/Work/Projects/steganography-detector/.detectorVenv/lib/python3.11/site-packages/keras/src/layers/core/dense.py:87: UserWarning: Do not pass an `input_shape`/`input_dim` argument to a layer. When using Sequential models, prefer using an `Input(shape)` object as the first layer in the model instead.\n",
      "  super().__init__(activity_regularizer=activity_regularizer, **kwargs)\n"
     ]
    },
    {
     "data": {
      "text/html": [
       "<pre style=\"white-space:pre;overflow-x:auto;line-height:normal;font-family:Menlo,'DejaVu Sans Mono',consolas,'Courier New',monospace\"><span style=\"font-weight: bold\">Model: \"sequential\"</span>\n",
       "</pre>\n"
      ],
      "text/plain": [
       "\u001b[1mModel: \"sequential\"\u001b[0m\n"
      ]
     },
     "metadata": {},
     "output_type": "display_data"
    },
    {
     "data": {
      "text/html": [
       "<pre style=\"white-space:pre;overflow-x:auto;line-height:normal;font-family:Menlo,'DejaVu Sans Mono',consolas,'Courier New',monospace\">┏━━━━━━━━━━━━━━━━━━━━━━━━━━━━━━━━━┳━━━━━━━━━━━━━━━━━━━━━━━━┳━━━━━━━━━━━━━━━┓\n",
       "┃<span style=\"font-weight: bold\"> Layer (type)                    </span>┃<span style=\"font-weight: bold\"> Output Shape           </span>┃<span style=\"font-weight: bold\">       Param # </span>┃\n",
       "┡━━━━━━━━━━━━━━━━━━━━━━━━━━━━━━━━━╇━━━━━━━━━━━━━━━━━━━━━━━━╇━━━━━━━━━━━━━━━┩\n",
       "│ dense (<span style=\"color: #0087ff; text-decoration-color: #0087ff\">Dense</span>)                   │ (<span style=\"color: #00d7ff; text-decoration-color: #00d7ff\">None</span>, <span style=\"color: #00af00; text-decoration-color: #00af00\">128</span>)            │    <span style=\"color: #00af00; text-decoration-color: #00af00\">12,583,040</span> │\n",
       "├─────────────────────────────────┼────────────────────────┼───────────────┤\n",
       "│ dropout (<span style=\"color: #0087ff; text-decoration-color: #0087ff\">Dropout</span>)               │ (<span style=\"color: #00d7ff; text-decoration-color: #00d7ff\">None</span>, <span style=\"color: #00af00; text-decoration-color: #00af00\">128</span>)            │             <span style=\"color: #00af00; text-decoration-color: #00af00\">0</span> │\n",
       "├─────────────────────────────────┼────────────────────────┼───────────────┤\n",
       "│ dense_1 (<span style=\"color: #0087ff; text-decoration-color: #0087ff\">Dense</span>)                 │ (<span style=\"color: #00d7ff; text-decoration-color: #00d7ff\">None</span>, <span style=\"color: #00af00; text-decoration-color: #00af00\">64</span>)             │         <span style=\"color: #00af00; text-decoration-color: #00af00\">8,256</span> │\n",
       "├─────────────────────────────────┼────────────────────────┼───────────────┤\n",
       "│ dense_2 (<span style=\"color: #0087ff; text-decoration-color: #0087ff\">Dense</span>)                 │ (<span style=\"color: #00d7ff; text-decoration-color: #00d7ff\">None</span>, <span style=\"color: #00af00; text-decoration-color: #00af00\">1</span>)              │            <span style=\"color: #00af00; text-decoration-color: #00af00\">65</span> │\n",
       "└─────────────────────────────────┴────────────────────────┴───────────────┘\n",
       "</pre>\n"
      ],
      "text/plain": [
       "┏━━━━━━━━━━━━━━━━━━━━━━━━━━━━━━━━━┳━━━━━━━━━━━━━━━━━━━━━━━━┳━━━━━━━━━━━━━━━┓\n",
       "┃\u001b[1m \u001b[0m\u001b[1mLayer (type)                   \u001b[0m\u001b[1m \u001b[0m┃\u001b[1m \u001b[0m\u001b[1mOutput Shape          \u001b[0m\u001b[1m \u001b[0m┃\u001b[1m \u001b[0m\u001b[1m      Param #\u001b[0m\u001b[1m \u001b[0m┃\n",
       "┡━━━━━━━━━━━━━━━━━━━━━━━━━━━━━━━━━╇━━━━━━━━━━━━━━━━━━━━━━━━╇━━━━━━━━━━━━━━━┩\n",
       "│ dense (\u001b[38;5;33mDense\u001b[0m)                   │ (\u001b[38;5;45mNone\u001b[0m, \u001b[38;5;34m128\u001b[0m)            │    \u001b[38;5;34m12,583,040\u001b[0m │\n",
       "├─────────────────────────────────┼────────────────────────┼───────────────┤\n",
       "│ dropout (\u001b[38;5;33mDropout\u001b[0m)               │ (\u001b[38;5;45mNone\u001b[0m, \u001b[38;5;34m128\u001b[0m)            │             \u001b[38;5;34m0\u001b[0m │\n",
       "├─────────────────────────────────┼────────────────────────┼───────────────┤\n",
       "│ dense_1 (\u001b[38;5;33mDense\u001b[0m)                 │ (\u001b[38;5;45mNone\u001b[0m, \u001b[38;5;34m64\u001b[0m)             │         \u001b[38;5;34m8,256\u001b[0m │\n",
       "├─────────────────────────────────┼────────────────────────┼───────────────┤\n",
       "│ dense_2 (\u001b[38;5;33mDense\u001b[0m)                 │ (\u001b[38;5;45mNone\u001b[0m, \u001b[38;5;34m1\u001b[0m)              │            \u001b[38;5;34m65\u001b[0m │\n",
       "└─────────────────────────────────┴────────────────────────┴───────────────┘\n"
      ]
     },
     "metadata": {},
     "output_type": "display_data"
    },
    {
     "data": {
      "text/html": [
       "<pre style=\"white-space:pre;overflow-x:auto;line-height:normal;font-family:Menlo,'DejaVu Sans Mono',consolas,'Courier New',monospace\"><span style=\"font-weight: bold\"> Total params: </span><span style=\"color: #00af00; text-decoration-color: #00af00\">12,591,361</span> (48.03 MB)\n",
       "</pre>\n"
      ],
      "text/plain": [
       "\u001b[1m Total params: \u001b[0m\u001b[38;5;34m12,591,361\u001b[0m (48.03 MB)\n"
      ]
     },
     "metadata": {},
     "output_type": "display_data"
    },
    {
     "data": {
      "text/html": [
       "<pre style=\"white-space:pre;overflow-x:auto;line-height:normal;font-family:Menlo,'DejaVu Sans Mono',consolas,'Courier New',monospace\"><span style=\"font-weight: bold\"> Trainable params: </span><span style=\"color: #00af00; text-decoration-color: #00af00\">12,591,361</span> (48.03 MB)\n",
       "</pre>\n"
      ],
      "text/plain": [
       "\u001b[1m Trainable params: \u001b[0m\u001b[38;5;34m12,591,361\u001b[0m (48.03 MB)\n"
      ]
     },
     "metadata": {},
     "output_type": "display_data"
    },
    {
     "data": {
      "text/html": [
       "<pre style=\"white-space:pre;overflow-x:auto;line-height:normal;font-family:Menlo,'DejaVu Sans Mono',consolas,'Courier New',monospace\"><span style=\"font-weight: bold\"> Non-trainable params: </span><span style=\"color: #00af00; text-decoration-color: #00af00\">0</span> (0.00 B)\n",
       "</pre>\n"
      ],
      "text/plain": [
       "\u001b[1m Non-trainable params: \u001b[0m\u001b[38;5;34m0\u001b[0m (0.00 B)\n"
      ]
     },
     "metadata": {},
     "output_type": "display_data"
    },
    {
     "name": "stdout",
     "output_type": "stream",
     "text": [
      "Epoch 1/10\n",
      "\u001b[1m63/63\u001b[0m \u001b[32m━━━━━━━━━━━━━━━━━━━━\u001b[0m\u001b[37m\u001b[0m \u001b[1m8s\u001b[0m 122ms/step - accuracy: 0.5930 - loss: 4.5871 - val_accuracy: 0.5465 - val_loss: 0.8758\n",
      "Epoch 2/10\n",
      "\u001b[1m63/63\u001b[0m \u001b[32m━━━━━━━━━━━━━━━━━━━━\u001b[0m\u001b[37m\u001b[0m \u001b[1m5s\u001b[0m 75ms/step - accuracy: 0.6743 - loss: 0.8824 - val_accuracy: 0.7370 - val_loss: 0.4964\n",
      "Epoch 3/10\n",
      "\u001b[1m63/63\u001b[0m \u001b[32m━━━━━━━━━━━━━━━━━━━━\u001b[0m\u001b[37m\u001b[0m \u001b[1m4s\u001b[0m 65ms/step - accuracy: 0.7377 - loss: 0.4915 - val_accuracy: 0.7530 - val_loss: 0.5259\n",
      "Epoch 4/10\n",
      "\u001b[1m63/63\u001b[0m \u001b[32m━━━━━━━━━━━━━━━━━━━━\u001b[0m\u001b[37m\u001b[0m \u001b[1m4s\u001b[0m 67ms/step - accuracy: 0.7925 - loss: 0.4451 - val_accuracy: 0.7180 - val_loss: 0.6061\n",
      "Epoch 5/10\n",
      "\u001b[1m63/63\u001b[0m \u001b[32m━━━━━━━━━━━━━━━━━━━━\u001b[0m\u001b[37m\u001b[0m \u001b[1m4s\u001b[0m 66ms/step - accuracy: 0.7665 - loss: 0.4550 - val_accuracy: 0.7805 - val_loss: 0.4502\n",
      "Epoch 6/10\n",
      "\u001b[1m63/63\u001b[0m \u001b[32m━━━━━━━━━━━━━━━━━━━━\u001b[0m\u001b[37m\u001b[0m \u001b[1m4s\u001b[0m 67ms/step - accuracy: 0.8285 - loss: 0.3824 - val_accuracy: 0.6965 - val_loss: 0.5269\n",
      "Epoch 7/10\n",
      "\u001b[1m63/63\u001b[0m \u001b[32m━━━━━━━━━━━━━━━━━━━━\u001b[0m\u001b[37m\u001b[0m \u001b[1m5s\u001b[0m 78ms/step - accuracy: 0.7445 - loss: 0.4873 - val_accuracy: 0.7460 - val_loss: 0.4885\n",
      "Epoch 8/10\n",
      "\u001b[1m63/63\u001b[0m \u001b[32m━━━━━━━━━━━━━━━━━━━━\u001b[0m\u001b[37m\u001b[0m \u001b[1m4s\u001b[0m 70ms/step - accuracy: 0.8202 - loss: 0.4390 - val_accuracy: 0.7550 - val_loss: 0.4763\n",
      "Epoch 9/10\n",
      "\u001b[1m63/63\u001b[0m \u001b[32m━━━━━━━━━━━━━━━━━━━━\u001b[0m\u001b[37m\u001b[0m \u001b[1m4s\u001b[0m 69ms/step - accuracy: 0.7523 - loss: 0.4826 - val_accuracy: 0.7300 - val_loss: 0.5138\n",
      "Epoch 10/10\n",
      "\u001b[1m63/63\u001b[0m \u001b[32m━━━━━━━━━━━━━━━━━━━━\u001b[0m\u001b[37m\u001b[0m \u001b[1m4s\u001b[0m 67ms/step - accuracy: 0.7698 - loss: 0.4710 - val_accuracy: 0.7320 - val_loss: 0.4860\n",
      "\u001b[1m63/63\u001b[0m \u001b[32m━━━━━━━━━━━━━━━━━━━━\u001b[0m\u001b[37m\u001b[0m \u001b[1m1s\u001b[0m 8ms/step - accuracy: 0.7372 - loss: 0.4796\n",
      "Test Accuracy: 73.20%\n"
     ]
    }
   ],
   "source": [
    "model = Sequential()\n",
    "\n",
    "# Add the input layer and first hidden layer\n",
    "# Assuming the number of features (raw bytes per image) is the length of xTrain[0]\n",
    "input_size = xTrain.shape[1]  # This is the length of your byte data per sample (number of features)\n",
    "\n",
    "model.add(Dense(128, input_dim=input_size, activation='relu'))  # First hidden layer\n",
    "model.add(Dropout(0.2))  # Dropout to prevent overfitting\n",
    "\n",
    "# Add another hidden layer\n",
    "model.add(Dense(64, activation='relu'))\n",
    "\n",
    "# Add the output layer with a single unit for binary classification (0 or 1)\n",
    "model.add(Dense(1, activation='sigmoid'))  # Sigmoid for binary classification\n",
    "\n",
    "# Compile the model\n",
    "model.compile(optimizer=Adam(), loss='binary_crossentropy', metrics=['accuracy'])\n",
    "\n",
    "# Summary of the model to see the structure\n",
    "model.summary()\n",
    "\n",
    "# Train the model\n",
    "history = model.fit(xTrain, yTrain, epochs=10, batch_size=32, validation_data=(xTest, yTest))\n",
    "\n",
    "# Evaluate the model\n",
    "test_loss, test_accuracy = model.evaluate(xTest, yTest)\n",
    "print(f\"Test Accuracy: {test_accuracy*100:.2f}%\")"
   ]
  },
  {
   "cell_type": "code",
   "execution_count": null,
   "id": "0be0c8dd-205f-4493-84fd-b459ebd0dc8d",
   "metadata": {},
   "outputs": [],
   "source": []
  }
 ],
 "metadata": {
  "kernelspec": {
   "display_name": "Detector Venv",
   "language": "python",
   "name": ".detectorvenv"
  },
  "language_info": {
   "codemirror_mode": {
    "name": "ipython",
    "version": 3
   },
   "file_extension": ".py",
   "mimetype": "text/x-python",
   "name": "python",
   "nbconvert_exporter": "python",
   "pygments_lexer": "ipython3",
   "version": "3.11.12"
  }
 },
 "nbformat": 4,
 "nbformat_minor": 5
}
