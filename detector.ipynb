{
 "cells": [
  {
   "cell_type": "code",
   "execution_count": 29,
   "id": "1d9c8be4-46d5-4c34-82f1-119f7ac93ffb",
   "metadata": {},
   "outputs": [],
   "source": [
    "# RUN ONCE\n",
    "# import kagglehub\n",
    "\n",
    "# # Download latest version\n",
    "# path = kagglehub.dataset_download(\"marcozuppelli/stegoimagesdataset\")\n",
    "# print(\"Path to dataset files:\", path)"
   ]
  },
  {
   "cell_type": "code",
   "execution_count": 31,
   "id": "7e48dba5-3bd4-405b-b1b2-35aa59054514",
   "metadata": {},
   "outputs": [],
   "source": [
    "from PIL import Image\n",
    "import numpy as np\n",
    "import pandas as pd\n",
    "import glob\n",
    "import random\n",
    "from sklearn.utils import shuffle\n",
    "from sklearn.model_selection import train_test_split\n",
    "from sklearn.metrics import accuracy_score\n",
    "from tensorflow.keras.models import Sequential\n",
    "from tensorflow.keras.layers import Dense, Dropout\n",
    "from tensorflow.keras.optimizers import Adam\n",
    "from tensorflow.keras.preprocessing.sequence import pad_sequences\n",
    "import pickle\n",
    "\n"
   ]
  },
  {
   "cell_type": "code",
   "execution_count": 2,
   "id": "e3861f63-4bf1-4e1b-b8c1-a8170e4ccdea",
   "metadata": {},
   "outputs": [],
   "source": [
    "def getLSBFloatBytes(filePath):\n",
    "    img = Image.open(filePath).convert(\"RGB\")\n",
    "    pixels = np.array(img).flatten()\n",
    "    lsb_array = pixels & 1\n",
    "\n",
    "    usable_length = (len(lsb_array) // 8) * 8\n",
    "    lsb_array = lsb_array[:usable_length]\n",
    "\n",
    "    lsb_reshaped = lsb_array.reshape((-1, 8))\n",
    "    powers = 2**np.arange(7, -1, -1)\n",
    "    byte_values = np.dot(lsb_reshaped, powers).astype(np.float32)\n",
    "\n",
    "    float_bytes = byte_values / 255.0\n",
    "    return float_bytes.tolist()\n"
   ]
  },
  {
   "cell_type": "code",
   "execution_count": null,
   "id": "db0b51a1-43ba-435b-86ea-8e4e24c38ac3",
   "metadata": {},
   "outputs": [],
   "source": [
    "### GETTING THE PATHS OF ALL THE IMAGES IN THE KAGGLE DATASET\n",
    "basePath = '/Users/gaim/.cache/kagglehub/datasets/marcozuppelli/stegoimagesdataset/versions/2' ## UPDATE THIS WITH YOUR PATH THAT YOU GET FROM IMPORTING THE DATASET\n",
    "\n",
    "trainStegImgs = glob.glob(basePath + '/train/train/stego/*.png') #get all the steg image paths\n",
    "trainCleanImgs = glob.glob(basePath + '/train/train/clean/*.png') #get all the clean image paths\n",
    "testStegImgs = glob.glob(basePath + '/test/test/stego/*.png')\n",
    "testCleanImgs = glob.glob(basePath + '/test/test/clean/*.png')"
   ]
  },
  {
   "cell_type": "code",
   "execution_count": null,
   "id": "b6521f1e-8472-476d-85bd-bc3d7e358c04",
   "metadata": {},
   "outputs": [
    {
     "data": {
      "text/html": [
       "<div>\n",
       "<style scoped>\n",
       "    .dataframe tbody tr th:only-of-type {\n",
       "        vertical-align: middle;\n",
       "    }\n",
       "\n",
       "    .dataframe tbody tr th {\n",
       "        vertical-align: top;\n",
       "    }\n",
       "\n",
       "    .dataframe thead th {\n",
       "        text-align: right;\n",
       "    }\n",
       "</style>\n",
       "<table border=\"1\" class=\"dataframe\">\n",
       "  <thead>\n",
       "    <tr style=\"text-align: right;\">\n",
       "      <th></th>\n",
       "      <th>imagePath</th>\n",
       "      <th>rawBytes</th>\n",
       "      <th>hasSteg</th>\n",
       "    </tr>\n",
       "  </thead>\n",
       "  <tbody>\n",
       "    <tr>\n",
       "      <th>1859</th>\n",
       "      <td>/Users/gaim/.cache/kagglehub/datasets/marcozup...</td>\n",
       "      <td>[0.0, 0.0, 0.0, 0.0, 0.0, 0.0, 0.0, 0.0, 0.0, ...</td>\n",
       "      <td>0</td>\n",
       "    </tr>\n",
       "    <tr>\n",
       "      <th>1059</th>\n",
       "      <td>/Users/gaim/.cache/kagglehub/datasets/marcozup...</td>\n",
       "      <td>[0.0, 0.0, 0.0, 0.0, 0.0, 0.0, 0.0, 0.0, 0.0, ...</td>\n",
       "      <td>0</td>\n",
       "    </tr>\n",
       "    <tr>\n",
       "      <th>114</th>\n",
       "      <td>/Users/gaim/.cache/kagglehub/datasets/marcozup...</td>\n",
       "      <td>[0.0, 0.0, 0.0, 0.0, 0.0, 0.0, 0.8352941274642...</td>\n",
       "      <td>1</td>\n",
       "    </tr>\n",
       "    <tr>\n",
       "      <th>791</th>\n",
       "      <td>/Users/gaim/.cache/kagglehub/datasets/marcozup...</td>\n",
       "      <td>[0.0, 0.0, 0.0, 0.0, 0.0, 0.0, 0.8627451062202...</td>\n",
       "      <td>1</td>\n",
       "    </tr>\n",
       "    <tr>\n",
       "      <th>1813</th>\n",
       "      <td>/Users/gaim/.cache/kagglehub/datasets/marcozup...</td>\n",
       "      <td>[0.0, 0.0, 0.0, 0.0, 0.0, 0.0, 0.0, 0.0, 0.0, ...</td>\n",
       "      <td>0</td>\n",
       "    </tr>\n",
       "    <tr>\n",
       "      <th>...</th>\n",
       "      <td>...</td>\n",
       "      <td>...</td>\n",
       "      <td>...</td>\n",
       "    </tr>\n",
       "    <tr>\n",
       "      <th>986</th>\n",
       "      <td>/Users/gaim/.cache/kagglehub/datasets/marcozup...</td>\n",
       "      <td>[0.0, 0.0, 0.0, 0.0, 0.0, 0.0, 0.2941176593303...</td>\n",
       "      <td>1</td>\n",
       "    </tr>\n",
       "    <tr>\n",
       "      <th>133</th>\n",
       "      <td>/Users/gaim/.cache/kagglehub/datasets/marcozup...</td>\n",
       "      <td>[0.0, 0.1764705926179886, 0.1568627506494522, ...</td>\n",
       "      <td>1</td>\n",
       "    </tr>\n",
       "    <tr>\n",
       "      <th>361</th>\n",
       "      <td>/Users/gaim/.cache/kagglehub/datasets/marcozup...</td>\n",
       "      <td>[0.0, 0.0, 0.0, 0.0, 0.0, 0.0, 0.8313725590705...</td>\n",
       "      <td>1</td>\n",
       "    </tr>\n",
       "    <tr>\n",
       "      <th>1364</th>\n",
       "      <td>/Users/gaim/.cache/kagglehub/datasets/marcozup...</td>\n",
       "      <td>[0.0, 0.0, 0.0, 0.0, 0.0, 0.0, 0.0, 0.0, 0.0, ...</td>\n",
       "      <td>0</td>\n",
       "    </tr>\n",
       "    <tr>\n",
       "      <th>451</th>\n",
       "      <td>/Users/gaim/.cache/kagglehub/datasets/marcozup...</td>\n",
       "      <td>[0.0, 0.0, 0.0, 0.0, 0.0, 0.01568627543747425,...</td>\n",
       "      <td>1</td>\n",
       "    </tr>\n",
       "  </tbody>\n",
       "</table>\n",
       "<p>2000 rows × 3 columns</p>\n",
       "</div>"
      ],
      "text/plain": [
       "                                              imagePath  \\\n",
       "1859  /Users/gaim/.cache/kagglehub/datasets/marcozup...   \n",
       "1059  /Users/gaim/.cache/kagglehub/datasets/marcozup...   \n",
       "114   /Users/gaim/.cache/kagglehub/datasets/marcozup...   \n",
       "791   /Users/gaim/.cache/kagglehub/datasets/marcozup...   \n",
       "1813  /Users/gaim/.cache/kagglehub/datasets/marcozup...   \n",
       "...                                                 ...   \n",
       "986   /Users/gaim/.cache/kagglehub/datasets/marcozup...   \n",
       "133   /Users/gaim/.cache/kagglehub/datasets/marcozup...   \n",
       "361   /Users/gaim/.cache/kagglehub/datasets/marcozup...   \n",
       "1364  /Users/gaim/.cache/kagglehub/datasets/marcozup...   \n",
       "451   /Users/gaim/.cache/kagglehub/datasets/marcozup...   \n",
       "\n",
       "                                               rawBytes  hasSteg  \n",
       "1859  [0.0, 0.0, 0.0, 0.0, 0.0, 0.0, 0.0, 0.0, 0.0, ...        0  \n",
       "1059  [0.0, 0.0, 0.0, 0.0, 0.0, 0.0, 0.0, 0.0, 0.0, ...        0  \n",
       "114   [0.0, 0.0, 0.0, 0.0, 0.0, 0.0, 0.8352941274642...        1  \n",
       "791   [0.0, 0.0, 0.0, 0.0, 0.0, 0.0, 0.8627451062202...        1  \n",
       "1813  [0.0, 0.0, 0.0, 0.0, 0.0, 0.0, 0.0, 0.0, 0.0, ...        0  \n",
       "...                                                 ...      ...  \n",
       "986   [0.0, 0.0, 0.0, 0.0, 0.0, 0.0, 0.2941176593303...        1  \n",
       "133   [0.0, 0.1764705926179886, 0.1568627506494522, ...        1  \n",
       "361   [0.0, 0.0, 0.0, 0.0, 0.0, 0.0, 0.8313725590705...        1  \n",
       "1364  [0.0, 0.0, 0.0, 0.0, 0.0, 0.0, 0.0, 0.0, 0.0, ...        0  \n",
       "451   [0.0, 0.0, 0.0, 0.0, 0.0, 0.01568627543747425,...        1  \n",
       "\n",
       "[2000 rows x 3 columns]"
      ]
     },
     "metadata": {},
     "output_type": "display_data"
    }
   ],
   "source": [
    "### GET THE RAW BYTES FOR EACH IMAGE AND THEN ADD THEM TO A PANDAS DATAFRAME\n",
    "\n",
    "trainRows = []\n",
    "for img in trainStegImgs[:1000]: ## UPDATE/GET RID OF ARRAY SLICING TO CONTROL DATA SIZE\n",
    "    rowInfo = {\n",
    "        'imagePath' : img,\n",
    "        'rawBytes' : getLSBFloatBytes(img),\n",
    "        'hasSteg' : 1\n",
    "    }\n",
    "    trainRows.append(rowInfo)\n",
    "    #print(img, \"COMPLETED\")\n",
    "\n",
    "\n",
    "for img in trainCleanImgs[:1000]: ## UPDATE/GET RID OF ARRAY SLICING TO CONTROL DATA SIZE\n",
    "    rowInfo = {\n",
    "        'imagePath' : img,\n",
    "        'rawBytes' : getLSBFloatBytes(img),\n",
    "        'hasSteg' : 0\n",
    "    }\n",
    "    trainRows.append(rowInfo)\n",
    "    \n",
    "\n",
    "\n",
    "trainDf = pd.DataFrame(trainRows)\n",
    "trainDf = shuffle(trainDf, random_state=8)\n",
    "display(trainDf)"
   ]
  },
  {
   "cell_type": "code",
   "execution_count": null,
   "id": "24174242-8d0f-457b-a4f7-ef3aa086734a",
   "metadata": {},
   "outputs": [
    {
     "data": {
      "text/html": [
       "<div>\n",
       "<style scoped>\n",
       "    .dataframe tbody tr th:only-of-type {\n",
       "        vertical-align: middle;\n",
       "    }\n",
       "\n",
       "    .dataframe tbody tr th {\n",
       "        vertical-align: top;\n",
       "    }\n",
       "\n",
       "    .dataframe thead th {\n",
       "        text-align: right;\n",
       "    }\n",
       "</style>\n",
       "<table border=\"1\" class=\"dataframe\">\n",
       "  <thead>\n",
       "    <tr style=\"text-align: right;\">\n",
       "      <th></th>\n",
       "      <th>imagePath</th>\n",
       "      <th>rawBytes</th>\n",
       "      <th>hasSteg</th>\n",
       "    </tr>\n",
       "  </thead>\n",
       "  <tbody>\n",
       "    <tr>\n",
       "      <th>1859</th>\n",
       "      <td>/Users/gaim/.cache/kagglehub/datasets/marcozup...</td>\n",
       "      <td>[0.0, 0.0, 0.0, 0.0, 0.0, 0.0, 0.0, 0.0, 0.0, ...</td>\n",
       "      <td>0</td>\n",
       "    </tr>\n",
       "    <tr>\n",
       "      <th>1059</th>\n",
       "      <td>/Users/gaim/.cache/kagglehub/datasets/marcozup...</td>\n",
       "      <td>[0.0, 0.0, 0.0, 0.0, 0.0, 0.0, 0.0, 0.0, 0.0, ...</td>\n",
       "      <td>0</td>\n",
       "    </tr>\n",
       "    <tr>\n",
       "      <th>114</th>\n",
       "      <td>/Users/gaim/.cache/kagglehub/datasets/marcozup...</td>\n",
       "      <td>[0.0, 0.0, 0.0, 0.0, 0.0, 0.0, 0.8117647171020...</td>\n",
       "      <td>1</td>\n",
       "    </tr>\n",
       "    <tr>\n",
       "      <th>791</th>\n",
       "      <td>/Users/gaim/.cache/kagglehub/datasets/marcozup...</td>\n",
       "      <td>[0.0, 0.0, 0.0, 0.0, 0.0, 0.0, 0.0, 0.38039216...</td>\n",
       "      <td>1</td>\n",
       "    </tr>\n",
       "    <tr>\n",
       "      <th>1813</th>\n",
       "      <td>/Users/gaim/.cache/kagglehub/datasets/marcozup...</td>\n",
       "      <td>[0.0, 0.0, 0.0, 0.0, 0.0, 0.0, 0.0, 0.0, 0.0, ...</td>\n",
       "      <td>0</td>\n",
       "    </tr>\n",
       "    <tr>\n",
       "      <th>...</th>\n",
       "      <td>...</td>\n",
       "      <td>...</td>\n",
       "      <td>...</td>\n",
       "    </tr>\n",
       "    <tr>\n",
       "      <th>986</th>\n",
       "      <td>/Users/gaim/.cache/kagglehub/datasets/marcozup...</td>\n",
       "      <td>[0.0, 0.0, 0.0, 0.0, 0.0, 0.0, 0.7725490331649...</td>\n",
       "      <td>1</td>\n",
       "    </tr>\n",
       "    <tr>\n",
       "      <th>133</th>\n",
       "      <td>/Users/gaim/.cache/kagglehub/datasets/marcozup...</td>\n",
       "      <td>[0.0, 0.0, 0.0, 0.0, 0.0, 0.0, 0.0, 0.18431372...</td>\n",
       "      <td>1</td>\n",
       "    </tr>\n",
       "    <tr>\n",
       "      <th>361</th>\n",
       "      <td>/Users/gaim/.cache/kagglehub/datasets/marcozup...</td>\n",
       "      <td>[0.0, 0.0, 0.0, 0.0, 0.0, 0.0, 0.0392156876623...</td>\n",
       "      <td>1</td>\n",
       "    </tr>\n",
       "    <tr>\n",
       "      <th>1364</th>\n",
       "      <td>/Users/gaim/.cache/kagglehub/datasets/marcozup...</td>\n",
       "      <td>[0.0, 0.0, 0.0, 0.0, 0.0, 0.0, 0.0, 0.0, 0.0, ...</td>\n",
       "      <td>0</td>\n",
       "    </tr>\n",
       "    <tr>\n",
       "      <th>451</th>\n",
       "      <td>/Users/gaim/.cache/kagglehub/datasets/marcozup...</td>\n",
       "      <td>[0.0, 0.0, 0.0, 0.0, 0.0, 0.0, 0.0156862754374...</td>\n",
       "      <td>1</td>\n",
       "    </tr>\n",
       "  </tbody>\n",
       "</table>\n",
       "<p>2000 rows × 3 columns</p>\n",
       "</div>"
      ],
      "text/plain": [
       "                                              imagePath  \\\n",
       "1859  /Users/gaim/.cache/kagglehub/datasets/marcozup...   \n",
       "1059  /Users/gaim/.cache/kagglehub/datasets/marcozup...   \n",
       "114   /Users/gaim/.cache/kagglehub/datasets/marcozup...   \n",
       "791   /Users/gaim/.cache/kagglehub/datasets/marcozup...   \n",
       "1813  /Users/gaim/.cache/kagglehub/datasets/marcozup...   \n",
       "...                                                 ...   \n",
       "986   /Users/gaim/.cache/kagglehub/datasets/marcozup...   \n",
       "133   /Users/gaim/.cache/kagglehub/datasets/marcozup...   \n",
       "361   /Users/gaim/.cache/kagglehub/datasets/marcozup...   \n",
       "1364  /Users/gaim/.cache/kagglehub/datasets/marcozup...   \n",
       "451   /Users/gaim/.cache/kagglehub/datasets/marcozup...   \n",
       "\n",
       "                                               rawBytes  hasSteg  \n",
       "1859  [0.0, 0.0, 0.0, 0.0, 0.0, 0.0, 0.0, 0.0, 0.0, ...        0  \n",
       "1059  [0.0, 0.0, 0.0, 0.0, 0.0, 0.0, 0.0, 0.0, 0.0, ...        0  \n",
       "114   [0.0, 0.0, 0.0, 0.0, 0.0, 0.0, 0.8117647171020...        1  \n",
       "791   [0.0, 0.0, 0.0, 0.0, 0.0, 0.0, 0.0, 0.38039216...        1  \n",
       "1813  [0.0, 0.0, 0.0, 0.0, 0.0, 0.0, 0.0, 0.0, 0.0, ...        0  \n",
       "...                                                 ...      ...  \n",
       "986   [0.0, 0.0, 0.0, 0.0, 0.0, 0.0, 0.7725490331649...        1  \n",
       "133   [0.0, 0.0, 0.0, 0.0, 0.0, 0.0, 0.0, 0.18431372...        1  \n",
       "361   [0.0, 0.0, 0.0, 0.0, 0.0, 0.0, 0.0392156876623...        1  \n",
       "1364  [0.0, 0.0, 0.0, 0.0, 0.0, 0.0, 0.0, 0.0, 0.0, ...        0  \n",
       "451   [0.0, 0.0, 0.0, 0.0, 0.0, 0.0, 0.0156862754374...        1  \n",
       "\n",
       "[2000 rows x 3 columns]"
      ]
     },
     "metadata": {},
     "output_type": "display_data"
    }
   ],
   "source": [
    "### GET THE RAW BYTES FOR EACH IMAGE AND THEN ADD THEM TO A PANDAS DATAFRAME\n",
    "\n",
    "testRows = []\n",
    "for img in testStegImgs[:1000]: ## UPDATE/GET RID OF ARRAY SLICING TO CONTROL DATA SIZE\n",
    "    rowInfo = {\n",
    "        'imagePath' : img,\n",
    "        'rawBytes' : getLSBFloatBytes(img),\n",
    "        'hasSteg' : 1\n",
    "    }\n",
    "    testRows.append(rowInfo)\n",
    "    #print(img, \"COMPLETED\")\n",
    "\n",
    "\n",
    "for img in testCleanImgs[:1000]: ## UPDATE/GET RID OF ARRAY SLICING TO CONTROL DATA SIZE\n",
    "    rowInfo = {\n",
    "        'imagePath' : img,\n",
    "        'rawBytes' : getLSBFloatBytes(img),\n",
    "        'hasSteg' : 0\n",
    "    }\n",
    "    testRows.append(rowInfo)\n",
    "    \n",
    "\n",
    "\n",
    "testDf = pd.DataFrame(testRows)\n",
    "testDf = shuffle(testDf, random_state=8)\n",
    "display(testDf)"
   ]
  },
  {
   "cell_type": "code",
   "execution_count": 12,
   "id": "8d8d79f2-ebb0-46fb-98f5-40085fbae0c7",
   "metadata": {},
   "outputs": [],
   "source": [
    "# trainDf.to_csv('trainDf.csv')"
   ]
  },
  {
   "cell_type": "code",
   "execution_count": 13,
   "id": "f6a66156-b6d8-4897-9239-fc159d15239e",
   "metadata": {},
   "outputs": [],
   "source": [
    "# testDf.to_csv('testDf.csv')"
   ]
  },
  {
   "cell_type": "code",
   "execution_count": 14,
   "id": "bd2dd898-226f-4220-916a-22354ea03d22",
   "metadata": {},
   "outputs": [],
   "source": [
    "# trainDf = pd.read_csv('trainDf.csv')"
   ]
  },
  {
   "cell_type": "code",
   "execution_count": 15,
   "id": "9213d8a7-29ce-4bcc-a2eb-a59364fb9332",
   "metadata": {},
   "outputs": [],
   "source": [
    "# testDf = pd.read_csv('testDf.csv')"
   ]
  },
  {
   "cell_type": "code",
   "execution_count": 26,
   "id": "c137a632-66de-4a3d-87f0-1bed64c934af",
   "metadata": {},
   "outputs": [],
   "source": [
    "def prepareData(df):\n",
    "    X = np.stack(df['rawBytes'].values)  # each list becomes a row\n",
    "    y = np.array(df['hasSteg'], dtype=np.uint8)  # Binary labels\n",
    "    return X, y\n",
    "\n",
    "xTrain, yTrain = prepareData(trainDf)\n",
    "xTest, yTest = prepareData(testDf)"
   ]
  },
  {
   "cell_type": "code",
   "execution_count": 34,
   "id": "a8d00856-ccbd-4656-8731-f6429e7d2f07",
   "metadata": {},
   "outputs": [
    {
     "data": {
      "text/html": [
       "<pre style=\"white-space:pre;overflow-x:auto;line-height:normal;font-family:Menlo,'DejaVu Sans Mono',consolas,'Courier New',monospace\"><span style=\"font-weight: bold\">Model: \"sequential_3\"</span>\n",
       "</pre>\n"
      ],
      "text/plain": [
       "\u001b[1mModel: \"sequential_3\"\u001b[0m\n"
      ]
     },
     "metadata": {},
     "output_type": "display_data"
    },
    {
     "data": {
      "text/html": [
       "<pre style=\"white-space:pre;overflow-x:auto;line-height:normal;font-family:Menlo,'DejaVu Sans Mono',consolas,'Courier New',monospace\">┏━━━━━━━━━━━━━━━━━━━━━━━━━━━━━━━━━┳━━━━━━━━━━━━━━━━━━━━━━━━┳━━━━━━━━━━━━━━━┓\n",
       "┃<span style=\"font-weight: bold\"> Layer (type)                    </span>┃<span style=\"font-weight: bold\"> Output Shape           </span>┃<span style=\"font-weight: bold\">       Param # </span>┃\n",
       "┡━━━━━━━━━━━━━━━━━━━━━━━━━━━━━━━━━╇━━━━━━━━━━━━━━━━━━━━━━━━╇━━━━━━━━━━━━━━━┩\n",
       "│ dense_9 (<span style=\"color: #0087ff; text-decoration-color: #0087ff\">Dense</span>)                 │ (<span style=\"color: #00d7ff; text-decoration-color: #00d7ff\">None</span>, <span style=\"color: #00af00; text-decoration-color: #00af00\">128</span>)            │    <span style=\"color: #00af00; text-decoration-color: #00af00\">12,583,040</span> │\n",
       "├─────────────────────────────────┼────────────────────────┼───────────────┤\n",
       "│ dropout_3 (<span style=\"color: #0087ff; text-decoration-color: #0087ff\">Dropout</span>)             │ (<span style=\"color: #00d7ff; text-decoration-color: #00d7ff\">None</span>, <span style=\"color: #00af00; text-decoration-color: #00af00\">128</span>)            │             <span style=\"color: #00af00; text-decoration-color: #00af00\">0</span> │\n",
       "├─────────────────────────────────┼────────────────────────┼───────────────┤\n",
       "│ dense_10 (<span style=\"color: #0087ff; text-decoration-color: #0087ff\">Dense</span>)                │ (<span style=\"color: #00d7ff; text-decoration-color: #00d7ff\">None</span>, <span style=\"color: #00af00; text-decoration-color: #00af00\">64</span>)             │         <span style=\"color: #00af00; text-decoration-color: #00af00\">8,256</span> │\n",
       "├─────────────────────────────────┼────────────────────────┼───────────────┤\n",
       "│ dense_11 (<span style=\"color: #0087ff; text-decoration-color: #0087ff\">Dense</span>)                │ (<span style=\"color: #00d7ff; text-decoration-color: #00d7ff\">None</span>, <span style=\"color: #00af00; text-decoration-color: #00af00\">1</span>)              │            <span style=\"color: #00af00; text-decoration-color: #00af00\">65</span> │\n",
       "└─────────────────────────────────┴────────────────────────┴───────────────┘\n",
       "</pre>\n"
      ],
      "text/plain": [
       "┏━━━━━━━━━━━━━━━━━━━━━━━━━━━━━━━━━┳━━━━━━━━━━━━━━━━━━━━━━━━┳━━━━━━━━━━━━━━━┓\n",
       "┃\u001b[1m \u001b[0m\u001b[1mLayer (type)                   \u001b[0m\u001b[1m \u001b[0m┃\u001b[1m \u001b[0m\u001b[1mOutput Shape          \u001b[0m\u001b[1m \u001b[0m┃\u001b[1m \u001b[0m\u001b[1m      Param #\u001b[0m\u001b[1m \u001b[0m┃\n",
       "┡━━━━━━━━━━━━━━━━━━━━━━━━━━━━━━━━━╇━━━━━━━━━━━━━━━━━━━━━━━━╇━━━━━━━━━━━━━━━┩\n",
       "│ dense_9 (\u001b[38;5;33mDense\u001b[0m)                 │ (\u001b[38;5;45mNone\u001b[0m, \u001b[38;5;34m128\u001b[0m)            │    \u001b[38;5;34m12,583,040\u001b[0m │\n",
       "├─────────────────────────────────┼────────────────────────┼───────────────┤\n",
       "│ dropout_3 (\u001b[38;5;33mDropout\u001b[0m)             │ (\u001b[38;5;45mNone\u001b[0m, \u001b[38;5;34m128\u001b[0m)            │             \u001b[38;5;34m0\u001b[0m │\n",
       "├─────────────────────────────────┼────────────────────────┼───────────────┤\n",
       "│ dense_10 (\u001b[38;5;33mDense\u001b[0m)                │ (\u001b[38;5;45mNone\u001b[0m, \u001b[38;5;34m64\u001b[0m)             │         \u001b[38;5;34m8,256\u001b[0m │\n",
       "├─────────────────────────────────┼────────────────────────┼───────────────┤\n",
       "│ dense_11 (\u001b[38;5;33mDense\u001b[0m)                │ (\u001b[38;5;45mNone\u001b[0m, \u001b[38;5;34m1\u001b[0m)              │            \u001b[38;5;34m65\u001b[0m │\n",
       "└─────────────────────────────────┴────────────────────────┴───────────────┘\n"
      ]
     },
     "metadata": {},
     "output_type": "display_data"
    },
    {
     "data": {
      "text/html": [
       "<pre style=\"white-space:pre;overflow-x:auto;line-height:normal;font-family:Menlo,'DejaVu Sans Mono',consolas,'Courier New',monospace\"><span style=\"font-weight: bold\"> Total params: </span><span style=\"color: #00af00; text-decoration-color: #00af00\">12,591,361</span> (48.03 MB)\n",
       "</pre>\n"
      ],
      "text/plain": [
       "\u001b[1m Total params: \u001b[0m\u001b[38;5;34m12,591,361\u001b[0m (48.03 MB)\n"
      ]
     },
     "metadata": {},
     "output_type": "display_data"
    },
    {
     "data": {
      "text/html": [
       "<pre style=\"white-space:pre;overflow-x:auto;line-height:normal;font-family:Menlo,'DejaVu Sans Mono',consolas,'Courier New',monospace\"><span style=\"font-weight: bold\"> Trainable params: </span><span style=\"color: #00af00; text-decoration-color: #00af00\">12,591,361</span> (48.03 MB)\n",
       "</pre>\n"
      ],
      "text/plain": [
       "\u001b[1m Trainable params: \u001b[0m\u001b[38;5;34m12,591,361\u001b[0m (48.03 MB)\n"
      ]
     },
     "metadata": {},
     "output_type": "display_data"
    },
    {
     "data": {
      "text/html": [
       "<pre style=\"white-space:pre;overflow-x:auto;line-height:normal;font-family:Menlo,'DejaVu Sans Mono',consolas,'Courier New',monospace\"><span style=\"font-weight: bold\"> Non-trainable params: </span><span style=\"color: #00af00; text-decoration-color: #00af00\">0</span> (0.00 B)\n",
       "</pre>\n"
      ],
      "text/plain": [
       "\u001b[1m Non-trainable params: \u001b[0m\u001b[38;5;34m0\u001b[0m (0.00 B)\n"
      ]
     },
     "metadata": {},
     "output_type": "display_data"
    },
    {
     "name": "stdout",
     "output_type": "stream",
     "text": [
      "Epoch 1/11\n",
      "\u001b[1m63/63\u001b[0m \u001b[32m━━━━━━━━━━━━━━━━━━━━\u001b[0m\u001b[37m\u001b[0m \u001b[1m6s\u001b[0m 88ms/step - accuracy: 0.5589 - loss: 5.1298 - val_accuracy: 0.6685 - val_loss: 0.5640\n",
      "Epoch 2/11\n",
      "\u001b[1m63/63\u001b[0m \u001b[32m━━━━━━━━━━━━━━━━━━━━\u001b[0m\u001b[37m\u001b[0m \u001b[1m4s\u001b[0m 63ms/step - accuracy: 0.6781 - loss: 0.8986 - val_accuracy: 0.7190 - val_loss: 0.6311\n",
      "Epoch 3/11\n",
      "\u001b[1m63/63\u001b[0m \u001b[32m━━━━━━━━━━━━━━━━━━━━\u001b[0m\u001b[37m\u001b[0m \u001b[1m4s\u001b[0m 66ms/step - accuracy: 0.7288 - loss: 0.5634 - val_accuracy: 0.7530 - val_loss: 0.5050\n",
      "Epoch 4/11\n",
      "\u001b[1m63/63\u001b[0m \u001b[32m━━━━━━━━━━━━━━━━━━━━\u001b[0m\u001b[37m\u001b[0m \u001b[1m4s\u001b[0m 63ms/step - accuracy: 0.7578 - loss: 0.5002 - val_accuracy: 0.7635 - val_loss: 0.4773\n",
      "Epoch 5/11\n",
      "\u001b[1m63/63\u001b[0m \u001b[32m━━━━━━━━━━━━━━━━━━━━\u001b[0m\u001b[37m\u001b[0m \u001b[1m4s\u001b[0m 66ms/step - accuracy: 0.7819 - loss: 0.4728 - val_accuracy: 0.7395 - val_loss: 0.5184\n",
      "Epoch 6/11\n",
      "\u001b[1m63/63\u001b[0m \u001b[32m━━━━━━━━━━━━━━━━━━━━\u001b[0m\u001b[37m\u001b[0m \u001b[1m4s\u001b[0m 63ms/step - accuracy: 0.7884 - loss: 0.4792 - val_accuracy: 0.7340 - val_loss: 0.5671\n",
      "Epoch 7/11\n",
      "\u001b[1m63/63\u001b[0m \u001b[32m━━━━━━━━━━━━━━━━━━━━\u001b[0m\u001b[37m\u001b[0m \u001b[1m5s\u001b[0m 71ms/step - accuracy: 0.7355 - loss: 0.5088 - val_accuracy: 0.7435 - val_loss: 0.4858\n",
      "Epoch 8/11\n",
      "\u001b[1m63/63\u001b[0m \u001b[32m━━━━━━━━━━━━━━━━━━━━\u001b[0m\u001b[37m\u001b[0m \u001b[1m4s\u001b[0m 65ms/step - accuracy: 0.7648 - loss: 0.4641 - val_accuracy: 0.7040 - val_loss: 0.5809\n",
      "Epoch 9/11\n",
      "\u001b[1m63/63\u001b[0m \u001b[32m━━━━━━━━━━━━━━━━━━━━\u001b[0m\u001b[37m\u001b[0m \u001b[1m4s\u001b[0m 64ms/step - accuracy: 0.7558 - loss: 0.5050 - val_accuracy: 0.7490 - val_loss: 0.7695\n",
      "Epoch 10/11\n",
      "\u001b[1m63/63\u001b[0m \u001b[32m━━━━━━━━━━━━━━━━━━━━\u001b[0m\u001b[37m\u001b[0m \u001b[1m4s\u001b[0m 66ms/step - accuracy: 0.7608 - loss: 0.5118 - val_accuracy: 0.7615 - val_loss: 0.4739\n",
      "Epoch 11/11\n",
      "\u001b[1m63/63\u001b[0m \u001b[32m━━━━━━━━━━━━━━━━━━━━\u001b[0m\u001b[37m\u001b[0m \u001b[1m4s\u001b[0m 63ms/step - accuracy: 0.7772 - loss: 0.4522 - val_accuracy: 0.7520 - val_loss: 0.4792\n",
      "\u001b[1m63/63\u001b[0m \u001b[32m━━━━━━━━━━━━━━━━━━━━\u001b[0m\u001b[37m\u001b[0m \u001b[1m1s\u001b[0m 8ms/step - accuracy: 0.7663 - loss: 0.4672\n",
      "Test Accuracy: 75.20%\n"
     ]
    }
   ],
   "source": [
    "model = Sequential()\n",
    "\n",
    "# Add the input layer and first hidden layer\n",
    "# Assuming the number of features (raw bytes per image) is the length of xTrain[0]\n",
    "input_size = xTrain.shape[1]  # This is the length of your byte data per sample (number of features)\n",
    "\n",
    "model.add(Dense(128, input_dim=input_size, activation='relu'))  # First hidden layer\n",
    "model.add(Dropout(0.2))  # Dropout to prevent overfitting\n",
    "\n",
    "# Add another hidden layer\n",
    "model.add(Dense(64, activation='relu'))\n",
    "\n",
    "# Add the output layer with a single unit for binary classification (0 or 1)\n",
    "model.add(Dense(1, activation='sigmoid'))  # Sigmoid for binary classification\n",
    "\n",
    "# Compile the model\n",
    "model.compile(optimizer=Adam(), loss='binary_crossentropy', metrics=['accuracy'])\n",
    "\n",
    "# Summary of the model to see the structure\n",
    "model.summary()\n",
    "\n",
    "# Train the model\n",
    "history = model.fit(xTrain, yTrain, epochs=11, batch_size=32, validation_data=(xTest, yTest))\n",
    "\n",
    "# Evaluate the model\n",
    "test_loss, test_accuracy = model.evaluate(xTest, yTest)\n",
    "print(f\"Test Accuracy: {test_accuracy*100:.2f}%\")"
   ]
  },
  {
   "cell_type": "code",
   "execution_count": 35,
   "id": "2999cb1c-04fa-48d5-9929-4a60016dd4fc",
   "metadata": {},
   "outputs": [],
   "source": [
    "with open('model.pkl', 'wb') as f:\n",
    "    pickle.dump(model, f)"
   ]
  },
  {
   "cell_type": "code",
   "execution_count": null,
   "id": "0be0c8dd-205f-4493-84fd-b459ebd0dc8d",
   "metadata": {},
   "outputs": [],
   "source": []
  }
 ],
 "metadata": {
  "kernelspec": {
   "display_name": ".detectorVenv",
   "language": "python",
   "name": "python3"
  },
  "language_info": {
   "codemirror_mode": {
    "name": "ipython",
    "version": 3
   },
   "file_extension": ".py",
   "mimetype": "text/x-python",
   "name": "python",
   "nbconvert_exporter": "python",
   "pygments_lexer": "ipython3",
   "version": "3.11.12"
  }
 },
 "nbformat": 4,
 "nbformat_minor": 5
}
